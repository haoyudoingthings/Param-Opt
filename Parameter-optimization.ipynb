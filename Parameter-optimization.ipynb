{
 "cells": [
  {
   "cell_type": "code",
   "execution_count": 8,
   "metadata": {},
   "outputs": [],
   "source": [
    "import numpy as np\n",
    "from tqdm import tqdm"
   ]
  },
  {
   "cell_type": "code",
   "execution_count": 15,
   "metadata": {},
   "outputs": [],
   "source": [
    "# A toy stochastic cost function\n",
    "rng = np.random.default_rng(0)\n",
    "def cost(p_vec):\n",
    "    return sum([p**2 for p in p_vec]) + rng.normal(scale=0.1)"
   ]
  },
  {
   "cell_type": "code",
   "execution_count": 4,
   "metadata": {},
   "outputs": [],
   "source": [
    "# parameter dimension\n",
    "dp = 10"
   ]
  },
  {
   "cell_type": "markdown",
   "metadata": {},
   "source": [
    "## Finite Differences Stochastic Approximation (FDSA)"
   ]
  },
  {
   "cell_type": "code",
   "execution_count": null,
   "metadata": {},
   "outputs": [],
   "source": []
  },
  {
   "cell_type": "markdown",
   "metadata": {},
   "source": [
    "## Simultaneous Perturbation Stochastic Approximation (SPSA)"
   ]
  },
  {
   "cell_type": "code",
   "execution_count": null,
   "metadata": {},
   "outputs": [],
   "source": []
  },
  {
   "cell_type": "markdown",
   "metadata": {},
   "source": [
    "## Nelder-Mead Method"
   ]
  },
  {
   "cell_type": "code",
   "execution_count": 12,
   "metadata": {},
   "outputs": [],
   "source": [
    "from numpy.linalg import norm\n",
    "\n",
    "# Arguments can also be adaptive: gamma=1+2/dp, rho=0.75-1/(2*dp), sigma=1-1/dp (Adaptive Nelder-Mead Simplex (ANMS) method)\n",
    "def nelder_mead(cost, dp, alpha=1, gamma=2, rho=0.5, sigma=0.5, nu=0.0001, max_iter=10000):\n",
    "    # Initial simplex\n",
    "    p_lst = [np.ones(dp)]\n",
    "    for i in range(dp):\n",
    "        temp = np.array(p_lst[0])\n",
    "        temp[i] += 1\n",
    "        p_lst.append(np.array(temp))\n",
    "    cost_lst = [cost(p_vec) for p_vec in p_lst]\n",
    "\n",
    "    for _ in range(max_iter):\n",
    "        # Order\n",
    "        cost_lst, p_lst = zip(*sorted(zip(cost_lst, p_lst))) # sort p_vec according to the cost function (ascending)\n",
    "        cost_lst = list(cost_lst)\n",
    "        p_lst = list(p_lst)\n",
    "\n",
    "        # Termination test\n",
    "        # Original termination criterion is based on the standard deviation of function values\n",
    "        # However, serious problems may arise with stochastic functions\n",
    "        # Another criterion is simplex size, ref: https://pubsonline.informs.org/doi/epdf/10.1287/mnsc.42.7.954\n",
    "        dist_lst = [norm(p - p_lst[0]) for p in p_lst[1:]]\n",
    "        if max(dist_lst) / max(1, norm(p_lst[0])) <= nu: # nu is the termination simplex size\n",
    "            break\n",
    "\n",
    "        # Centroid\n",
    "        p_o = sum(p_lst[:-1]) / dp # centroid of all points except the last one\n",
    "\n",
    "        # Reflection\n",
    "        p_r = p_o + alpha * (p_o - p_lst[-1]) # alpha > 0\n",
    "        cost_r = cost(p_r)\n",
    "        if cost_lst[0] <= cost_r and cost_r < cost_lst[-2]:\n",
    "            p_lst[-1] = p_r\n",
    "            cost_lst[-1] = cost_r\n",
    "            continue\n",
    "        \n",
    "        # Expansion\n",
    "        elif cost_r < cost_lst[0]:\n",
    "            p_e = p_o + gamma * (p_r - p_o) # gamma > 1\n",
    "            cost_e = cost(p_e)\n",
    "            if cost_e < cost_r:\n",
    "                p_lst[-1] = p_e\n",
    "                cost_lst[-1] = cost_e\n",
    "                continue\n",
    "            else:\n",
    "                p_lst[-1] = p_r\n",
    "                cost_lst[-1] = cost_r\n",
    "                continue\n",
    "        \n",
    "        # Contraction\n",
    "        else: # cost_lst[-2] <= cost_r\n",
    "            p_c = p_o + rho * (p_r - p_o) # 0 < rho <= 0.5\n",
    "            cost_c = cost(p_c)\n",
    "            if cost_r < cost_lst[-1]:\n",
    "                if cost_c < cost_r:\n",
    "                    p_lst[-1] = p_c\n",
    "                    cost_lst[-1] = cost_c\n",
    "                    continue\n",
    "            else: # cost_lst[-1] <= cost_r\n",
    "                if cost_c < cost_lst[-1]:\n",
    "                    p_lst[-1] = p_c\n",
    "                    cost_lst[-1] = cost_c\n",
    "                    continue\n",
    "        \n",
    "        # Shrink\n",
    "        # Rare case, takes a lot of cost function evaluations, possibly omittable\n",
    "        p_lst = [p_lst[0] + sigma * (p_vec - p_lst[0]) for p_vec in p_lst] # 0 < sigma <= 0.5\n",
    "        cost_lst = [cost(p_vec) for p_vec in p_lst]\n",
    "    \n",
    "    else:\n",
    "        # Optimization failed, number of iteration exceeds maximum value\n",
    "        return\n",
    "    \n",
    "    return p_lst[0], cost_lst[0]"
   ]
  },
  {
   "cell_type": "code",
   "execution_count": 16,
   "metadata": {},
   "outputs": [
    {
     "data": {
      "text/plain": [
       "(array([-0.17608942, -0.06837984,  0.05445364,  0.06902426,  0.12681607,\n",
       "         0.00848597, -0.07260046, -0.00766897,  0.11866098,  0.05102829]),\n",
       " -0.06227114678070228)"
      ]
     },
     "execution_count": 16,
     "metadata": {},
     "output_type": "execute_result"
    }
   ],
   "source": [
    "nelder_mead(cost, dp)"
   ]
  },
  {
   "cell_type": "code",
   "execution_count": 17,
   "metadata": {},
   "outputs": [
    {
     "data": {
      "text/plain": [
       "(array([ 0.08012604, -0.03076585,  0.15595906, -0.02673476, -0.0604248 ,\n",
       "        -0.00130607,  0.16061132,  0.175166  ,  0.03084868,  0.07864928]),\n",
       " -0.10352013119155362)"
      ]
     },
     "execution_count": 17,
     "metadata": {},
     "output_type": "execute_result"
    }
   ],
   "source": [
    "nelder_mead(cost, dp, gamma=1+2/dp, rho=0.75-1/(2*dp), sigma=1-1/dp)"
   ]
  },
  {
   "cell_type": "code",
   "execution_count": null,
   "metadata": {},
   "outputs": [],
   "source": []
  }
 ],
 "metadata": {
  "kernelspec": {
   "display_name": "Python 3",
   "language": "python",
   "name": "python3"
  },
  "language_info": {
   "codemirror_mode": {
    "name": "ipython",
    "version": 3
   },
   "file_extension": ".py",
   "mimetype": "text/x-python",
   "name": "python",
   "nbconvert_exporter": "python",
   "pygments_lexer": "ipython3",
   "version": "3.7.7"
  },
  "orig_nbformat": 4
 },
 "nbformat": 4,
 "nbformat_minor": 2
}
